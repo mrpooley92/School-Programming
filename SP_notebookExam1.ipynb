{
  "nbformat": 4,
  "nbformat_minor": 0,
  "metadata": {
    "colab": {
      "name": "SP_notebookExam1.ipynb",
      "provenance": [],
      "collapsed_sections": [],
      "include_colab_link": true
    },
    "kernelspec": {
      "name": "python3",
      "display_name": "Python 3"
    }
  },
  "cells": [
    {
      "cell_type": "markdown",
      "metadata": {
        "id": "view-in-github",
        "colab_type": "text"
      },
      "source": [
        "<a href=\"https://colab.research.google.com/github/SpencerZPoole/School-Programming/blob/master/SP_notebookExam1.ipynb\" target=\"_parent\"><img src=\"https://colab.research.google.com/assets/colab-badge.svg\" alt=\"Open In Colab\"/></a>"
      ]
    },
    {
      "cell_type": "markdown",
      "metadata": {
        "id": "8V1Slz52hI39"
      },
      "source": [
        "Name: Spencer Z Poole\n",
        "\n",
        "**CS167 Exam 1 Notebook**\n",
        "\n",
        "**Due 3/12 by 11:59pm**"
      ]
    },
    {
      "cell_type": "code",
      "metadata": {
        "id": "yMLe0EWyLXqZ",
        "colab": {
          "base_uri": "https://localhost:8080/"
        },
        "outputId": "b021f920-b787-45cf-d3e4-f2f3411bd881"
      },
      "source": [
        "import pandas as pd\n",
        "import numpy\n",
        "from google.colab import drive\n",
        "drive.mount('/content/drive')"
      ],
      "execution_count": 749,
      "outputs": [
        {
          "output_type": "stream",
          "text": [
            "Drive already mounted at /content/drive; to attempt to forcibly remount, call drive.mount(\"/content/drive\", force_remount=True).\n"
          ],
          "name": "stdout"
        }
      ]
    },
    {
      "cell_type": "code",
      "metadata": {
        "id": "cH-odZShMDUH"
      },
      "source": [
        "from sklearn.model_selection import train_test_split\n",
        "from sklearn import metrics\n",
        "from sklearn import tree"
      ],
      "execution_count": 750,
      "outputs": []
    },
    {
      "cell_type": "code",
      "metadata": {
        "id": "Vj5WQfWlha-K"
      },
      "source": [
        "def regress_all_kNN(test_data,train_data,k):\n",
        "    #apply the regression_kNN function to each item in the test data with the train\n",
        "    #data and k passed as the other two arguments. The result will be a series of \n",
        "    #the individual results.\n",
        "    return test_data.apply(regression_kNN,args=(train_data,k),axis=1)"
      ],
      "execution_count": 751,
      "outputs": []
    },
    {
      "cell_type": "code",
      "metadata": {
        "id": "cmYPPhnnTr7X"
      },
      "source": [
        "def calculate_mae(test_data, predictions, test_data_size):\r\n",
        "  sum = 0\r\n",
        "  for i in range(test_data_size):\r\n",
        "    sum += abs(test_data['Class'].iloc[i] - predictions.iloc[i])\r\n",
        "  mae = sum / test_data_size\r\n",
        "  return mae\r\n"
      ],
      "execution_count": 752,
      "outputs": []
    },
    {
      "cell_type": "code",
      "metadata": {
        "id": "LCNltwwOcNeA"
      },
      "source": [
        "import matplotlib.pyplot as plt\r\n",
        "%matplotlib inline\r\n",
        "\r\n",
        "def model_test_MAE(test_data_size, random_state_seed):\r\n",
        "  #establish training and testing sets\r\n",
        "  #shuffle the data - \"sampling\" the full set in random order\r\n",
        "  shuffled_data = fuelType_regular_vehicles.sample(frac=1, random_state=random_state_seed)\r\n",
        "\r\n",
        "  #use the first 'test_data_size' rows in the shuffled set as testing data #train with the rest\r\n",
        "  test_data = shuffled_data.iloc[0:test_data_size]\r\n",
        "  train_data = shuffled_data.iloc[test_data_size:]\r\n",
        "\r\n",
        "  k_vals = [1,3,5,9,15,21,31,51,101,129]\r\n",
        "  kNN_maes = []\r\n",
        "\r\n",
        "  for k in k_vals:\r\n",
        "    predictions = regress_all_kNN(test_data,train_data,k)\r\n",
        "    current_mae = calculate_mae(test_data, predictions, test_data_size)\r\n",
        "    kNN_maes.append(current_mae)\r\n",
        "\r\n",
        "  plt.suptitle('Vehicle Data k-NN Experiment',fontsize=18)\r\n",
        "  plt.xlabel('k')\r\n",
        "  plt.ylabel('Mean Absolute Error')\r\n",
        "  plt.plot(k_vals,kNN_maes,'ro-',label='k-NN')\r\n",
        "  plt.legend(loc='lower left', shadow=True)\r\n",
        "  plt.axis([0,130,0,3])\r\n",
        "\r\n",
        "  plt.show()\r\n"
      ],
      "execution_count": 753,
      "outputs": []
    },
    {
      "cell_type": "code",
      "metadata": {
        "id": "ulu0TBqhQf3h",
        "colab": {
          "base_uri": "https://localhost:8080/",
          "height": 266
        },
        "outputId": "6ac5284f-34b6-4480-db50-0575970f2efb"
      },
      "source": [
        "zooData = [['Giraffe', 1, 'Hooves', 490, 1930, 'Mammal'],['Rattlesnake', 0, 'None', 150, 2.4, 'Reptile'], ['Rhino', 1, 'Hooves', 180, 700, 'Mammal'],  \\\r\n",
        "           ['Bobcat', 0, \"Claws\", 80, 10, \"Mammal\"], ['Great Tortoise', 0, 'Claws', 122, 250, 'Reptile'], ['Prairie Dog', 0, 'Claws', 40, 1.5, 'Mammal'], ['Horned Lizard', 1, 'Claws', 10, 1, 'Reptile']]\r\n",
        "zoodf = pd.DataFrame(zooData, columns = ['Animal', 'Horns', 'Feet', 'Height/length (cm)', 'Weight (kg)', 'Class'])\r\n",
        "zoodf"
      ],
      "execution_count": 754,
      "outputs": [
        {
          "output_type": "execute_result",
          "data": {
            "text/html": [
              "<div>\n",
              "<style scoped>\n",
              "    .dataframe tbody tr th:only-of-type {\n",
              "        vertical-align: middle;\n",
              "    }\n",
              "\n",
              "    .dataframe tbody tr th {\n",
              "        vertical-align: top;\n",
              "    }\n",
              "\n",
              "    .dataframe thead th {\n",
              "        text-align: right;\n",
              "    }\n",
              "</style>\n",
              "<table border=\"1\" class=\"dataframe\">\n",
              "  <thead>\n",
              "    <tr style=\"text-align: right;\">\n",
              "      <th></th>\n",
              "      <th>Animal</th>\n",
              "      <th>Horns</th>\n",
              "      <th>Feet</th>\n",
              "      <th>Height/length (cm)</th>\n",
              "      <th>Weight (kg)</th>\n",
              "      <th>Class</th>\n",
              "    </tr>\n",
              "  </thead>\n",
              "  <tbody>\n",
              "    <tr>\n",
              "      <th>0</th>\n",
              "      <td>Giraffe</td>\n",
              "      <td>1</td>\n",
              "      <td>Hooves</td>\n",
              "      <td>490</td>\n",
              "      <td>1930.0</td>\n",
              "      <td>Mammal</td>\n",
              "    </tr>\n",
              "    <tr>\n",
              "      <th>1</th>\n",
              "      <td>Rattlesnake</td>\n",
              "      <td>0</td>\n",
              "      <td>None</td>\n",
              "      <td>150</td>\n",
              "      <td>2.4</td>\n",
              "      <td>Reptile</td>\n",
              "    </tr>\n",
              "    <tr>\n",
              "      <th>2</th>\n",
              "      <td>Rhino</td>\n",
              "      <td>1</td>\n",
              "      <td>Hooves</td>\n",
              "      <td>180</td>\n",
              "      <td>700.0</td>\n",
              "      <td>Mammal</td>\n",
              "    </tr>\n",
              "    <tr>\n",
              "      <th>3</th>\n",
              "      <td>Bobcat</td>\n",
              "      <td>0</td>\n",
              "      <td>Claws</td>\n",
              "      <td>80</td>\n",
              "      <td>10.0</td>\n",
              "      <td>Mammal</td>\n",
              "    </tr>\n",
              "    <tr>\n",
              "      <th>4</th>\n",
              "      <td>Great Tortoise</td>\n",
              "      <td>0</td>\n",
              "      <td>Claws</td>\n",
              "      <td>122</td>\n",
              "      <td>250.0</td>\n",
              "      <td>Reptile</td>\n",
              "    </tr>\n",
              "    <tr>\n",
              "      <th>5</th>\n",
              "      <td>Prairie Dog</td>\n",
              "      <td>0</td>\n",
              "      <td>Claws</td>\n",
              "      <td>40</td>\n",
              "      <td>1.5</td>\n",
              "      <td>Mammal</td>\n",
              "    </tr>\n",
              "    <tr>\n",
              "      <th>6</th>\n",
              "      <td>Horned Lizard</td>\n",
              "      <td>1</td>\n",
              "      <td>Claws</td>\n",
              "      <td>10</td>\n",
              "      <td>1.0</td>\n",
              "      <td>Reptile</td>\n",
              "    </tr>\n",
              "  </tbody>\n",
              "</table>\n",
              "</div>"
            ],
            "text/plain": [
              "           Animal  Horns    Feet  Height/length (cm)  Weight (kg)    Class\n",
              "0         Giraffe      1  Hooves                 490       1930.0   Mammal\n",
              "1     Rattlesnake      0    None                 150          2.4  Reptile\n",
              "2           Rhino      1  Hooves                 180        700.0   Mammal\n",
              "3          Bobcat      0   Claws                  80         10.0   Mammal\n",
              "4  Great Tortoise      0   Claws                 122        250.0  Reptile\n",
              "5     Prairie Dog      0   Claws                  40          1.5   Mammal\n",
              "6   Horned Lizard      1   Claws                  10          1.0  Reptile"
            ]
          },
          "metadata": {
            "tags": []
          },
          "execution_count": 754
        }
      ]
    },
    {
      "cell_type": "markdown",
      "metadata": {
        "id": "YnWx4WZ3WjgO"
      },
      "source": [
        "Calculate the mean for the ‘weight’ column. Round your answer to the nearest kg."
      ]
    },
    {
      "cell_type": "code",
      "metadata": {
        "id": "gPwDlUKuWZwf",
        "colab": {
          "base_uri": "https://localhost:8080/"
        },
        "outputId": "1b279490-1f7f-4a9f-a6b2-1cd6c0f7dcc0"
      },
      "source": [
        "zoo_weight_mean = zoodf['Weight (kg)'].mean()\r\n",
        "zoo_weight_std = zoodf['Weight (kg)'].std()\r\n",
        "print(zoo_weight_mean)\r\n",
        "print(zoo_weight_std)"
      ],
      "execution_count": 755,
      "outputs": [
        {
          "output_type": "stream",
          "text": [
            "413.5571428571429\n",
            "716.5080177665909\n"
          ],
          "name": "stdout"
        }
      ]
    },
    {
      "cell_type": "code",
      "metadata": {
        "id": "Q7ksf6Eab-lV",
        "colab": {
          "base_uri": "https://localhost:8080/",
          "height": 266
        },
        "outputId": "70492b2c-e836-46c5-8d45-57fbc7d9db78"
      },
      "source": [
        "zoodfZScoreWeight = zoodf.copy()\r\n",
        "zoodfZScoreWeight['Weight (kg)'] = (zoodf['Weight (kg)'] - zoo_weight_mean)/zoo_weight_std\r\n",
        "zoodfZScoreWeight"
      ],
      "execution_count": 756,
      "outputs": [
        {
          "output_type": "execute_result",
          "data": {
            "text/html": [
              "<div>\n",
              "<style scoped>\n",
              "    .dataframe tbody tr th:only-of-type {\n",
              "        vertical-align: middle;\n",
              "    }\n",
              "\n",
              "    .dataframe tbody tr th {\n",
              "        vertical-align: top;\n",
              "    }\n",
              "\n",
              "    .dataframe thead th {\n",
              "        text-align: right;\n",
              "    }\n",
              "</style>\n",
              "<table border=\"1\" class=\"dataframe\">\n",
              "  <thead>\n",
              "    <tr style=\"text-align: right;\">\n",
              "      <th></th>\n",
              "      <th>Animal</th>\n",
              "      <th>Horns</th>\n",
              "      <th>Feet</th>\n",
              "      <th>Height/length (cm)</th>\n",
              "      <th>Weight (kg)</th>\n",
              "      <th>Class</th>\n",
              "    </tr>\n",
              "  </thead>\n",
              "  <tbody>\n",
              "    <tr>\n",
              "      <th>0</th>\n",
              "      <td>Giraffe</td>\n",
              "      <td>1</td>\n",
              "      <td>Hooves</td>\n",
              "      <td>490</td>\n",
              "      <td>2.116435</td>\n",
              "      <td>Mammal</td>\n",
              "    </tr>\n",
              "    <tr>\n",
              "      <th>1</th>\n",
              "      <td>Rattlesnake</td>\n",
              "      <td>0</td>\n",
              "      <td>None</td>\n",
              "      <td>150</td>\n",
              "      <td>-0.573835</td>\n",
              "      <td>Reptile</td>\n",
              "    </tr>\n",
              "    <tr>\n",
              "      <th>2</th>\n",
              "      <td>Rhino</td>\n",
              "      <td>1</td>\n",
              "      <td>Hooves</td>\n",
              "      <td>180</td>\n",
              "      <td>0.399776</td>\n",
              "      <td>Mammal</td>\n",
              "    </tr>\n",
              "    <tr>\n",
              "      <th>3</th>\n",
              "      <td>Bobcat</td>\n",
              "      <td>0</td>\n",
              "      <td>Claws</td>\n",
              "      <td>80</td>\n",
              "      <td>-0.563228</td>\n",
              "      <td>Mammal</td>\n",
              "    </tr>\n",
              "    <tr>\n",
              "      <th>4</th>\n",
              "      <td>Great Tortoise</td>\n",
              "      <td>0</td>\n",
              "      <td>Claws</td>\n",
              "      <td>122</td>\n",
              "      <td>-0.228270</td>\n",
              "      <td>Reptile</td>\n",
              "    </tr>\n",
              "    <tr>\n",
              "      <th>5</th>\n",
              "      <td>Prairie Dog</td>\n",
              "      <td>0</td>\n",
              "      <td>Claws</td>\n",
              "      <td>40</td>\n",
              "      <td>-0.575091</td>\n",
              "      <td>Mammal</td>\n",
              "    </tr>\n",
              "    <tr>\n",
              "      <th>6</th>\n",
              "      <td>Horned Lizard</td>\n",
              "      <td>1</td>\n",
              "      <td>Claws</td>\n",
              "      <td>10</td>\n",
              "      <td>-0.575789</td>\n",
              "      <td>Reptile</td>\n",
              "    </tr>\n",
              "  </tbody>\n",
              "</table>\n",
              "</div>"
            ],
            "text/plain": [
              "           Animal  Horns    Feet  Height/length (cm)  Weight (kg)    Class\n",
              "0         Giraffe      1  Hooves                 490     2.116435   Mammal\n",
              "1     Rattlesnake      0    None                 150    -0.573835  Reptile\n",
              "2           Rhino      1  Hooves                 180     0.399776   Mammal\n",
              "3          Bobcat      0   Claws                  80    -0.563228   Mammal\n",
              "4  Great Tortoise      0   Claws                 122    -0.228270  Reptile\n",
              "5     Prairie Dog      0   Claws                  40    -0.575091   Mammal\n",
              "6   Horned Lizard      1   Claws                  10    -0.575789  Reptile"
            ]
          },
          "metadata": {
            "tags": []
          },
          "execution_count": 756
        }
      ]
    },
    {
      "cell_type": "markdown",
      "metadata": {
        "id": "uLy7DgXUkjpt"
      },
      "source": [
        "Calculate the information gain from the ‘Horns’ column. Clearly show your work by uploading a picture or a file explaining your answer."
      ]
    },
    {
      "cell_type": "code",
      "metadata": {
        "id": "Hb0_Y98rionp"
      },
      "source": [
        "import math\r\n",
        "\r\n",
        "def entropy(percentage_list):\r\n",
        "    #input: percentage_list consists of float values that sum to 1.0 \r\n",
        "    #return: calculation of entropy for input percentages\r\n",
        "    result = 0\r\n",
        "    for percentage in percentage_list:\r\n",
        "        if percentage != 0:\r\n",
        "            result += -percentage*math.log2(percentage)\r\n",
        "    return result"
      ],
      "execution_count": 757,
      "outputs": []
    },
    {
      "cell_type": "code",
      "metadata": {
        "id": "hFqRq0L9kmr-",
        "colab": {
          "base_uri": "https://localhost:8080/",
          "height": 266
        },
        "outputId": "e4c7682c-d895-4c70-f8ad-c67630aa7e16"
      },
      "source": [
        "zoodf[['Horns', 'Class']].sort_values('Horns')"
      ],
      "execution_count": 758,
      "outputs": [
        {
          "output_type": "execute_result",
          "data": {
            "text/html": [
              "<div>\n",
              "<style scoped>\n",
              "    .dataframe tbody tr th:only-of-type {\n",
              "        vertical-align: middle;\n",
              "    }\n",
              "\n",
              "    .dataframe tbody tr th {\n",
              "        vertical-align: top;\n",
              "    }\n",
              "\n",
              "    .dataframe thead th {\n",
              "        text-align: right;\n",
              "    }\n",
              "</style>\n",
              "<table border=\"1\" class=\"dataframe\">\n",
              "  <thead>\n",
              "    <tr style=\"text-align: right;\">\n",
              "      <th></th>\n",
              "      <th>Horns</th>\n",
              "      <th>Class</th>\n",
              "    </tr>\n",
              "  </thead>\n",
              "  <tbody>\n",
              "    <tr>\n",
              "      <th>1</th>\n",
              "      <td>0</td>\n",
              "      <td>Reptile</td>\n",
              "    </tr>\n",
              "    <tr>\n",
              "      <th>3</th>\n",
              "      <td>0</td>\n",
              "      <td>Mammal</td>\n",
              "    </tr>\n",
              "    <tr>\n",
              "      <th>4</th>\n",
              "      <td>0</td>\n",
              "      <td>Reptile</td>\n",
              "    </tr>\n",
              "    <tr>\n",
              "      <th>5</th>\n",
              "      <td>0</td>\n",
              "      <td>Mammal</td>\n",
              "    </tr>\n",
              "    <tr>\n",
              "      <th>0</th>\n",
              "      <td>1</td>\n",
              "      <td>Mammal</td>\n",
              "    </tr>\n",
              "    <tr>\n",
              "      <th>2</th>\n",
              "      <td>1</td>\n",
              "      <td>Mammal</td>\n",
              "    </tr>\n",
              "    <tr>\n",
              "      <th>6</th>\n",
              "      <td>1</td>\n",
              "      <td>Reptile</td>\n",
              "    </tr>\n",
              "  </tbody>\n",
              "</table>\n",
              "</div>"
            ],
            "text/plain": [
              "   Horns    Class\n",
              "1      0  Reptile\n",
              "3      0   Mammal\n",
              "4      0  Reptile\n",
              "5      0   Mammal\n",
              "0      1   Mammal\n",
              "2      1   Mammal\n",
              "6      1  Reptile"
            ]
          },
          "metadata": {
            "tags": []
          },
          "execution_count": 758
        }
      ]
    },
    {
      "cell_type": "code",
      "metadata": {
        "id": "Ef23THcVqx9M",
        "colab": {
          "base_uri": "https://localhost:8080/"
        },
        "outputId": "0b33e17c-cc58-4cd0-df29-b159fbb9cfec"
      },
      "source": [
        "entropyZeroHorns = entropy([2/4, 2/4])\r\n",
        "entropyZeroHorns"
      ],
      "execution_count": 759,
      "outputs": [
        {
          "output_type": "execute_result",
          "data": {
            "text/plain": [
              "1.0"
            ]
          },
          "metadata": {
            "tags": []
          },
          "execution_count": 759
        }
      ]
    },
    {
      "cell_type": "code",
      "metadata": {
        "id": "hHhpQXmYrQo4",
        "colab": {
          "base_uri": "https://localhost:8080/"
        },
        "outputId": "d2d44daf-0795-4825-9ff7-15ee3d164ae9"
      },
      "source": [
        "entropyOneHorn = entropy([2/3,1/3])\r\n",
        "entropyOneHorn"
      ],
      "execution_count": 760,
      "outputs": [
        {
          "output_type": "execute_result",
          "data": {
            "text/plain": [
              "0.9182958340544896"
            ]
          },
          "metadata": {
            "tags": []
          },
          "execution_count": 760
        }
      ]
    },
    {
      "cell_type": "code",
      "metadata": {
        "id": "vRmbMbxynQUP",
        "colab": {
          "base_uri": "https://localhost:8080/"
        },
        "outputId": "ca6a5426-a346-48e8-d287-7201eaf8fc09"
      },
      "source": [
        "hornsExpectedEntropy = ( ((4/7)*entropyZeroHorns) + ((3/7)*entropyOneHorn) )\r\n",
        "hornsExpectedEntropy"
      ],
      "execution_count": 761,
      "outputs": [
        {
          "output_type": "execute_result",
          "data": {
            "text/plain": [
              "0.9649839288804954"
            ]
          },
          "metadata": {
            "tags": []
          },
          "execution_count": 761
        }
      ]
    },
    {
      "cell_type": "code",
      "metadata": {
        "id": "pp2-1bl4t9q7",
        "colab": {
          "base_uri": "https://localhost:8080/"
        },
        "outputId": "cf28d157-d368-421f-a38e-83a5d3996ee5"
      },
      "source": [
        "gainHorns = 1 - hornsExpectedEntropy\r\n",
        "gainHorns"
      ],
      "execution_count": 762,
      "outputs": [
        {
          "output_type": "execute_result",
          "data": {
            "text/plain": [
              "0.035016071119504555"
            ]
          },
          "metadata": {
            "tags": []
          },
          "execution_count": 762
        }
      ]
    },
    {
      "cell_type": "markdown",
      "metadata": {
        "id": "wsF5QmkjypNT"
      },
      "source": [
        "The zoo has encountered a new kind of animal and they want to be able to say if it is a ‘mammal’ or a ‘reptile’. The staff was able to get some measurements (unfortunately only height and weight) and they want to know what you would predict. Using only the ‘height’ and ‘weight’ columns with Euclidean distance and k=3, what would the 3 nearest neighbor algorithm predict? Show your work by uploading a picture/screenshot of your work. Make sure the answer to the question is clearly visible. \r\n",
        "\r\n",
        "If you choose to use excel or python to calculate the distances, please include a screenshot of either your formula or code.\r\n",
        "\r\n",
        "New Alien -- -- 268 415 ?????"
      ]
    },
    {
      "cell_type": "code",
      "metadata": {
        "id": "pqfDk-lbZgyq"
      },
      "source": [
        "# knn regression function\r\n",
        "def regression_kNN(specimen, data, k):\r\n",
        "  data_copy = data.copy()\r\n",
        "  data_copy['distance_to_new'] = numpy.sqrt(\r\n",
        "    (specimen['Height/length (cm)']-data_copy['Height/length (cm)'])**2\r\n",
        "    +(specimen['Weight (kg)']-data_copy['Weight (kg)'])**2)\r\n",
        "  \r\n",
        "  sorted_data = data_copy.sort_values(['distance_to_new']) \r\n",
        "  return sorted_data.iloc[0:k]['Class'].mean()"
      ],
      "execution_count": 763,
      "outputs": []
    },
    {
      "cell_type": "code",
      "metadata": {
        "id": "6vaDDjHj4ZaA"
      },
      "source": [
        "# knn classification function\r\n",
        "def classification_kNN(specimen, data, k):\r\n",
        "  data_copy = data.copy()\r\n",
        "  data_copy['distance_to_new'] = numpy.sqrt(\r\n",
        "    (specimen['Height/length (cm)']-data_copy['Height/length (cm)'])**2\r\n",
        "    +(specimen['Weight (kg)']-data_copy['Weight (kg)'])**2)\r\n",
        "  \r\n",
        "  sorted_data = data_copy.sort_values(['distance_to_new']) \r\n",
        "  return sorted_data.iloc[0:k]['Class'].mode().iloc[0]"
      ],
      "execution_count": 764,
      "outputs": []
    },
    {
      "cell_type": "code",
      "metadata": {
        "colab": {
          "base_uri": "https://localhost:8080/",
          "height": 35
        },
        "id": "Qjp1-vb0yrag",
        "outputId": "42a6448a-29d0-413c-de57-ec95a23513ba"
      },
      "source": [
        "newAlien = {}\r\n",
        "newAlien['Animal'] = 'New Alien'\r\n",
        "newAlien['Height/length (cm)'] = 268\r\n",
        "newAlien['Weight (kg)'] = 415\r\n",
        "\r\n",
        "classification_kNN(newAlien, zoodf, 3)"
      ],
      "execution_count": 765,
      "outputs": [
        {
          "output_type": "execute_result",
          "data": {
            "application/vnd.google.colaboratory.intrinsic+json": {
              "type": "string"
            },
            "text/plain": [
              "'Reptile'"
            ]
          },
          "metadata": {
            "tags": []
          },
          "execution_count": 765
        }
      ]
    },
    {
      "cell_type": "markdown",
      "metadata": {
        "id": "AazSX0tJ4qVw"
      },
      "source": [
        "Now, use a weighted k-Nearest-Neighbors algorithm on the same data. What ‘Class’ does a weighted 3NN predict the new alien will be? Upload your work (either a picture of your written work, or a file with your typed out work). Make sure the answer is clearly visible. "
      ]
    },
    {
      "cell_type": "code",
      "metadata": {
        "id": "3PzP62Sb40rm"
      },
      "source": [
        "# knn classification weighted function\r\n",
        "def classification_kNN_weighted(specimen, data, k):\r\n",
        "  data_copy = data.copy()\r\n",
        "  data_copy['distance_to_new'] = numpy.sqrt(\r\n",
        "    (specimen['Height/length (cm)']-data_copy['Height/length (cm)'])**2\r\n",
        "    +(specimen['Weight (kg)']-data_copy['Weight (kg)'])**2)\r\n",
        "  \r\n",
        "  data_copy['weight'] = 1/(data_copy['distance_to_new']**2)\r\n",
        "\r\n",
        "  sorted_data = data_copy.sort_values(['distance_to_new'])\r\n",
        "  sorted_data = sorted_data.iloc[0:k]\r\n",
        "  sorted_data = sorted_data.sort_values(['weight'])\r\n",
        "  print(sorted_data)\r\n",
        "  return sorted_data.iloc[k-1]['Class']"
      ],
      "execution_count": 766,
      "outputs": []
    },
    {
      "cell_type": "code",
      "metadata": {
        "colab": {
          "base_uri": "https://localhost:8080/",
          "height": 137
        },
        "id": "LbErx4ud6lGk",
        "outputId": "72c1e167-4bb6-4e37-8d5c-f9f974daac11"
      },
      "source": [
        "classification_kNN_weighted(newAlien, zoodf, 3)"
      ],
      "execution_count": 767,
      "outputs": [
        {
          "output_type": "stream",
          "text": [
            "           Animal  Horns    Feet  ...    Class  distance_to_new    weight\n",
            "1     Rattlesnake      0    None  ...  Reptile       429.141888  0.000005\n",
            "2           Rhino      1  Hooves  ...   Mammal       298.276717  0.000011\n",
            "4  Great Tortoise      0   Claws  ...  Reptile       220.320221  0.000021\n",
            "\n",
            "[3 rows x 8 columns]\n"
          ],
          "name": "stdout"
        },
        {
          "output_type": "execute_result",
          "data": {
            "application/vnd.google.colaboratory.intrinsic+json": {
              "type": "string"
            },
            "text/plain": [
              "'Reptile'"
            ]
          },
          "metadata": {
            "tags": []
          },
          "execution_count": 767
        }
      ]
    },
    {
      "cell_type": "code",
      "metadata": {
        "colab": {
          "base_uri": "https://localhost:8080/",
          "height": 173
        },
        "id": "_rPD4dyCDI_U",
        "outputId": "94947b5d-a1d1-436c-c2ab-17831e7a59a9"
      },
      "source": [
        "flightData = [[80, 1500, 6, 230], [35, 1945, 3, 450], [91, 923, 7, 175], [75, 2300, 10, 1200]]\r\n",
        "flightdf = pd.DataFrame(flightData, columns = ['Destination Temperature (F)', 'Distance of Flight (miles)', 'Duration of Vacation', 'Cost of Roundtrip Flights'])\r\n",
        "flightdf"
      ],
      "execution_count": 768,
      "outputs": [
        {
          "output_type": "execute_result",
          "data": {
            "text/html": [
              "<div>\n",
              "<style scoped>\n",
              "    .dataframe tbody tr th:only-of-type {\n",
              "        vertical-align: middle;\n",
              "    }\n",
              "\n",
              "    .dataframe tbody tr th {\n",
              "        vertical-align: top;\n",
              "    }\n",
              "\n",
              "    .dataframe thead th {\n",
              "        text-align: right;\n",
              "    }\n",
              "</style>\n",
              "<table border=\"1\" class=\"dataframe\">\n",
              "  <thead>\n",
              "    <tr style=\"text-align: right;\">\n",
              "      <th></th>\n",
              "      <th>Destination Temperature (F)</th>\n",
              "      <th>Distance of Flight (miles)</th>\n",
              "      <th>Duration of Vacation</th>\n",
              "      <th>Cost of Roundtrip Flights</th>\n",
              "    </tr>\n",
              "  </thead>\n",
              "  <tbody>\n",
              "    <tr>\n",
              "      <th>0</th>\n",
              "      <td>80</td>\n",
              "      <td>1500</td>\n",
              "      <td>6</td>\n",
              "      <td>230</td>\n",
              "    </tr>\n",
              "    <tr>\n",
              "      <th>1</th>\n",
              "      <td>35</td>\n",
              "      <td>1945</td>\n",
              "      <td>3</td>\n",
              "      <td>450</td>\n",
              "    </tr>\n",
              "    <tr>\n",
              "      <th>2</th>\n",
              "      <td>91</td>\n",
              "      <td>923</td>\n",
              "      <td>7</td>\n",
              "      <td>175</td>\n",
              "    </tr>\n",
              "    <tr>\n",
              "      <th>3</th>\n",
              "      <td>75</td>\n",
              "      <td>2300</td>\n",
              "      <td>10</td>\n",
              "      <td>1200</td>\n",
              "    </tr>\n",
              "  </tbody>\n",
              "</table>\n",
              "</div>"
            ],
            "text/plain": [
              "   Destination Temperature (F)  ...  Cost of Roundtrip Flights\n",
              "0                           80  ...                        230\n",
              "1                           35  ...                        450\n",
              "2                           91  ...                        175\n",
              "3                           75  ...                       1200\n",
              "\n",
              "[4 rows x 4 columns]"
            ]
          },
          "metadata": {
            "tags": []
          },
          "execution_count": 768
        }
      ]
    },
    {
      "cell_type": "code",
      "metadata": {
        "id": "iw1mieAYEqkw"
      },
      "source": [
        "newVacation = {}\r\n",
        "newVacation['Destination Temperature (F)'] = 83\r\n",
        "newVacation['Distance of Flight (miles)'] = 1700\r\n",
        "newVacation['Duration of Vacation'] = 4\r\n",
        "\r\n"
      ],
      "execution_count": 769,
      "outputs": []
    },
    {
      "cell_type": "code",
      "metadata": {
        "id": "lytdzgcaFXvH"
      },
      "source": [
        "# flight knn regression function\r\n",
        "def flight_regression_kNN(specimen, data, k):\r\n",
        "  data_copy = data.copy()\r\n",
        "  data_copy['distance_to_new'] = numpy.sqrt(\r\n",
        "    (specimen['Destination Temperature (F)']-data_copy['Destination Temperature (F)'])**2\r\n",
        "    +(specimen['Distance of Flight (miles)']-data_copy['Distance of Flight (miles)'])**2\r\n",
        "    +(specimen['Duration of Vacation']-data_copy['Duration of Vacation'])**2)\r\n",
        "  \r\n",
        "  sorted_data = data_copy.sort_values(['distance_to_new']) \r\n",
        "  return sorted_data.iloc[0:k]['Cost of Roundtrip Flights'].mean()"
      ],
      "execution_count": 770,
      "outputs": []
    },
    {
      "cell_type": "code",
      "metadata": {
        "colab": {
          "base_uri": "https://localhost:8080/"
        },
        "id": "sLlXC3UEF5vY",
        "outputId": "ac726654-73d8-4a60-9797-7fd80fb7cff7"
      },
      "source": [
        "flight_regression_kNN(newVacation, flightdf, 3)"
      ],
      "execution_count": 771,
      "outputs": [
        {
          "output_type": "execute_result",
          "data": {
            "text/plain": [
              "626.6666666666666"
            ]
          },
          "metadata": {
            "tags": []
          },
          "execution_count": 771
        }
      ]
    },
    {
      "cell_type": "markdown",
      "metadata": {
        "id": "-BGcBFVnIMnq"
      },
      "source": [
        "Let’s say we found out that the actual price for our destination (that’s 83 degrees, 1700 miles away, and 4 days long) was $291. What is the MSE for the prediction that we made in the previous question? Round to the nearest whole number."
      ]
    },
    {
      "cell_type": "code",
      "metadata": {
        "colab": {
          "base_uri": "https://localhost:8080/",
          "height": 204
        },
        "id": "mr5LwI7ZHKM1",
        "outputId": "31829396-e97d-4cde-ad2e-f10faa602a89"
      },
      "source": [
        "flightData = [[80, 1500, 6, 230], [35, 1945, 3, 450], [91, 923, 7, 175], [75, 2300, 10, 1200], [83, 1700, 4, 291]]\r\n",
        "flightdf = pd.DataFrame(flightData, columns = ['Destination Temperature (F)', 'Distance of Flight (miles)', 'Duration of Vacation', 'Cost of Roundtrip Flights'])\r\n",
        "flightdf"
      ],
      "execution_count": 772,
      "outputs": [
        {
          "output_type": "execute_result",
          "data": {
            "text/html": [
              "<div>\n",
              "<style scoped>\n",
              "    .dataframe tbody tr th:only-of-type {\n",
              "        vertical-align: middle;\n",
              "    }\n",
              "\n",
              "    .dataframe tbody tr th {\n",
              "        vertical-align: top;\n",
              "    }\n",
              "\n",
              "    .dataframe thead th {\n",
              "        text-align: right;\n",
              "    }\n",
              "</style>\n",
              "<table border=\"1\" class=\"dataframe\">\n",
              "  <thead>\n",
              "    <tr style=\"text-align: right;\">\n",
              "      <th></th>\n",
              "      <th>Destination Temperature (F)</th>\n",
              "      <th>Distance of Flight (miles)</th>\n",
              "      <th>Duration of Vacation</th>\n",
              "      <th>Cost of Roundtrip Flights</th>\n",
              "    </tr>\n",
              "  </thead>\n",
              "  <tbody>\n",
              "    <tr>\n",
              "      <th>0</th>\n",
              "      <td>80</td>\n",
              "      <td>1500</td>\n",
              "      <td>6</td>\n",
              "      <td>230</td>\n",
              "    </tr>\n",
              "    <tr>\n",
              "      <th>1</th>\n",
              "      <td>35</td>\n",
              "      <td>1945</td>\n",
              "      <td>3</td>\n",
              "      <td>450</td>\n",
              "    </tr>\n",
              "    <tr>\n",
              "      <th>2</th>\n",
              "      <td>91</td>\n",
              "      <td>923</td>\n",
              "      <td>7</td>\n",
              "      <td>175</td>\n",
              "    </tr>\n",
              "    <tr>\n",
              "      <th>3</th>\n",
              "      <td>75</td>\n",
              "      <td>2300</td>\n",
              "      <td>10</td>\n",
              "      <td>1200</td>\n",
              "    </tr>\n",
              "    <tr>\n",
              "      <th>4</th>\n",
              "      <td>83</td>\n",
              "      <td>1700</td>\n",
              "      <td>4</td>\n",
              "      <td>291</td>\n",
              "    </tr>\n",
              "  </tbody>\n",
              "</table>\n",
              "</div>"
            ],
            "text/plain": [
              "   Destination Temperature (F)  ...  Cost of Roundtrip Flights\n",
              "0                           80  ...                        230\n",
              "1                           35  ...                        450\n",
              "2                           91  ...                        175\n",
              "3                           75  ...                       1200\n",
              "4                           83  ...                        291\n",
              "\n",
              "[5 rows x 4 columns]"
            ]
          },
          "metadata": {
            "tags": []
          },
          "execution_count": 772
        }
      ]
    },
    {
      "cell_type": "code",
      "metadata": {
        "id": "i5c177TtJgim"
      },
      "source": [
        "def regress_all_kNN(test_data,train_data,k):\n",
        "    #apply the regression_kNN function to each item in the test data with the train\n",
        "    #data and k passed as the other two arguments. The result will be a series of \n",
        "    #the individual results.\n",
        "    return test_data.apply(flight_regression_kNN,args=(train_data,k),axis=1)"
      ],
      "execution_count": 773,
      "outputs": []
    },
    {
      "cell_type": "code",
      "metadata": {
        "id": "9TWSKe6KH-MD"
      },
      "source": [
        "def calculate_mse(test_data, predictions, test_data_size):\r\n",
        "  sum = 0\r\n",
        "  for i in range(test_data_size):\r\n",
        "    sum += (test_data['Cost of Roundtrip Flights'].iloc[i] - predictions.iloc[i])**2\r\n",
        "  mse = sum / test_data_size\r\n",
        "  return mse\r\n"
      ],
      "execution_count": 774,
      "outputs": []
    },
    {
      "cell_type": "code",
      "metadata": {
        "id": "t5K_e1kYI0aZ"
      },
      "source": [
        "import matplotlib.pyplot as plt\r\n",
        "%matplotlib inline\r\n",
        "\r\n",
        "def model_test_MSE(test_data_size):\r\n",
        "  test_data = flightdf.iloc[0:test_data_size]\r\n",
        "  train_data = flightdf.iloc[test_data_size:]\r\n",
        "  k_vals = [1,2,3,4,5]\r\n",
        "  kNN_mses = []\r\n",
        "\r\n",
        "  for k in k_vals:\r\n",
        "    predictions = regress_all_kNN(test_data,train_data,k)\r\n",
        "    current_mse = calculate_mse(test_data, predictions, test_data_size)\r\n",
        "    print(current_mse)\r\n",
        "    kNN_mses.append(current_mse)\r\n",
        "\r\n",
        "  plt.suptitle('Flight k-NN Experiment',fontsize=18)\r\n",
        "  plt.xlabel('k')\r\n",
        "  plt.ylabel('Mean Squared Absolute Error')\r\n",
        "  plt.plot(k_vals,kNN_mses,'ro-',label='k-NN')\r\n",
        "  plt.legend(loc='lower left', shadow=True)\r\n",
        "  plt.axis([0,5,0,250000])\r\n",
        "\r\n",
        "  plt.show()\r\n"
      ],
      "execution_count": 775,
      "outputs": []
    },
    {
      "cell_type": "code",
      "metadata": {
        "colab": {
          "base_uri": "https://localhost:8080/",
          "height": 393
        },
        "id": "Q2feQannJ9Z1",
        "outputId": "ffe9840c-8691-4551-8233-6c7b1e3544ec"
      },
      "source": [
        "model_test_MSE(4)"
      ],
      "execution_count": 776,
      "outputs": [
        {
          "output_type": "stream",
          "text": [
            "217184.75\n",
            "217184.75\n",
            "217184.75\n",
            "217184.75\n",
            "217184.75\n"
          ],
          "name": "stdout"
        },
        {
          "output_type": "display_data",
          "data": {
            "image/png": "[encoded data removed]",
            "text/plain": [
              "<Figure size 432x288 with 1 Axes>"
            ]
          },
          "metadata": {
            "tags": [],
            "needs_background": "light"
          }
        }
      ]
    }
  ]
}